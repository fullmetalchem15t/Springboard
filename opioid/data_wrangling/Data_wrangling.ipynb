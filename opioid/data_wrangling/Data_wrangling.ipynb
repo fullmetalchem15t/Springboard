{
 "cells": [
  {
   "cell_type": "markdown",
   "metadata": {},
   "source": [
    "# import packages"
   ]
  },
  {
   "cell_type": "code",
   "execution_count": 1,
   "metadata": {},
   "outputs": [],
   "source": [
    "import pandas as pd\n",
    "import numpy as np\n",
    "import csv\n",
    "from urllib import request\n",
    "from io import StringIO"
   ]
  },
  {
   "cell_type": "markdown",
   "metadata": {},
   "source": [
    "# important functions"
   ]
  },
  {
   "cell_type": "code",
   "execution_count": 2,
   "metadata": {},
   "outputs": [],
   "source": [
    "#if value is NaN, return ifnan_value, otherwise return value\n",
    "def if_null_value(value,if_nan_value):\n",
    "    return (if_nan_value if np.isnan(value) else value)\n",
    "\n",
    "#combines strings, used to combine first and last names with spaces between.\n",
    "def combine_strings(*strings):\n",
    "    combine = ''\n",
    "    for x in strings:\n",
    "        if isinstance(x,str):\n",
    "          combine += x + ' '\n",
    "    if(combine == ''):\n",
    "        return combine\n",
    "    else:\n",
    "        return combine[0:-1] "
   ]
  },
  {
   "cell_type": "markdown",
   "metadata": {},
   "source": [
    "# Create dataframe from file\n",
    "Data is not loaded in github and can be found at https://data.cms.gov/Medicare-Claims/Medicare-Part-D-Opioid-Prescriber-Summary-File-201/yb2j-f3fp."
   ]
  },
  {
   "cell_type": "code",
   "execution_count": 3,
   "metadata": {},
   "outputs": [],
   "source": [
    "filename = '2013_data/Medicare_Part_D_Opioid_Prescriber_Summary_File_2013.csv'\n",
    "opioid_df = pd.read_csv(filename)[['NPI',\n",
    "                                   'NPPES Provider First Name',\n",
    "                                   'NPPES Provider Last Name',\n",
    "                                   'NPPES Provider ZIP Code',\n",
    "                                   'NPPES Provider State',\n",
    "                                   'Specialty Description',\n",
    "                                   'Total Claim Count',\n",
    "                                   'Opioid Claim Count',\n",
    "                                   'Opioid Prescribing Rate']]\n",
    "#change name of columns\n",
    "opioid_df.columns =['doctor id',\n",
    "                    'first name',\n",
    "                    'last name',                    \n",
    "                    'zip code',                       \n",
    "                    'state',\n",
    "                    'specialty description',\n",
    "                    'total claims',\n",
    "                    'opioid claims',\n",
    "                    'percent opioid claims']\n",
    "#set doctor id to the index\n",
    "opioid_df.set_index('doctor id',inplace=True)\n",
    "#combine first and last name into a single column\n",
    "opioid_df['doctor name']=opioid_df[['first name','last name']].apply(lambda x:combine_strings(*x),axis=1)\n",
    "opioid_df.drop(labels=['first name','last name'],axis=1,inplace=True)\n",
    "\n",
    "#setting specialty description index\n",
    "doc_spec = set(list(opioid_df['specialty description']))\n",
    "spec_compreh=((x,counter) for counter, x in enumerate(doc_spec))\n",
    "spec_df=pd.DataFrame(spec_compreh,columns=['specialty description','specialty index'])\n",
    "opioid_df = opioid_df.merge(spec_df,how='left',on='specialty description')\n",
    "\n",
    "#Droping doctors with nan or zero claims  \n",
    "opioid_df['opioid claims']= opioid_df['opioid claims'].apply(lambda x: if_null_value(x,0))\n",
    "opioid_df['percent opioid claims']=opioid_df['percent opioid claims'].apply(lambda x: if_null_value(x,0))\n",
    "opioid_reduced=opioid_df[opioid_df['opioid claims'] != 0.0]"
   ]
  },
  {
   "cell_type": "markdown",
   "metadata": {},
   "source": [
    "# Quick analyze of data and Outlier detection"
   ]
  },
  {
   "cell_type": "code",
   "execution_count": 29,
   "metadata": {},
   "outputs": [
    {
     "name": "stdout",
     "output_type": "stream",
     "text": [
      "# health providers: 1049326\n",
      "# health providers who prescribe opioid: 496744\n",
      "% health providers that prescribe opioids: 47.34%\n",
      "# specialities: 246\n",
      "# specialities that prescribe opioid: 169\n",
      "Max % prescriptions that are opioids: 100.0%\n",
      "Min % prescriptions that are opioids(other than zero): 0.03%\n"
     ]
    }
   ],
   "source": [
    "print('# health providers: {}'\n",
    "      .format(opioid_df['doctor name'].count()))\n",
    "print('# health providers who prescribe opioid: {}'\n",
    "      .format(opioid_reduced['doctor name'].count()))\n",
    "print('% health providers that prescribe opioids: {:.2f}%'.\n",
    "     format(opioid_reduced['doctor name'].count()/opioid_df['doctor name'].count()*100))\n",
    "print('# specialities: {}'.format(spec_df['specialty index'].count()))\n",
    "print('# specialities that prescribe opioid: {}'\n",
    "      .format(opioid_reduced['specialty index'].nunique()))\n",
    "print('Max % prescriptions that are opioids: {}%'\n",
    "      .format(opioid_reduced['percent opioid claims'].max()))\n",
    "print('Min % prescriptions that are opioids(other than zero): {}%'\n",
    "      .format(opioid_reduced['percent opioid claims'].min()))"
   ]
  },
  {
   "cell_type": "markdown",
   "metadata": {},
   "source": [
    "# Create dataframe for API\n",
    "Currently only use small portion of the dataframe. Unfortately the URL only provides 1000 entries."
   ]
  },
  {
   "cell_type": "code",
   "execution_count": 17,
   "metadata": {},
   "outputs": [
    {
     "name": "stdout",
     "output_type": "stream",
     "text": [
      "state                    1000\n",
      "specialty description    1000\n",
      "zip code                 1000\n",
      "opioid claims            1000\n",
      "total claim count        1000\n",
      "percent opioid claims    1000\n",
      "doctor name              1000\n",
      "dtype: int64\n",
      "state                    14\n",
      "specialty description    14\n",
      "zip code                 14\n",
      "opioid claims            14\n",
      "total claim count        14\n",
      "percent opioid claims    14\n",
      "doctor name              14\n",
      "dtype: int64\n",
      "Max % prescriptions that are opioids 0.5\n",
      "Min % prescriptions that are opioids 0.055999999999999994 (Other than zero)\n"
     ]
    }
   ],
   "source": [
    "#source: https://data.cms.gov/Medicare-Claims/Medicare-Part-D-Opioid-Prescriber-Summary-File-201/yb2j-f3fp\n",
    "#Download from URL and into a pandas and turn into a pandas dataframe, note that this is only a \n",
    "#small portion of the data\n",
    "URL = 'https://data.cms.gov/resource/aksg-4qws.csv'\n",
    "response = request.urlopen(URL)\n",
    "content = response.read()\n",
    "opioid_api_df = pd.read_csv(StringIO(content.decode('utf-8')))[['npi',\n",
    "                                                            'nppes_provider_first_name',\n",
    "                                                            'nppes_provider_last_name',\n",
    "                                                            'nppes_provider_state',\n",
    "                                                            'specialty_description',\n",
    "                                                            'nppes_provider_zip_code',\n",
    "                                                            'opioid_claim_count',\n",
    "                                                            'total_claim_count',\n",
    "                                                            'percent_opioid_claims']]\n",
    "\n",
    "\n",
    "#change name of columns\n",
    "opioid_api_df.columns =['doctor id',\n",
    "                    'first name',\n",
    "                    'last name',\n",
    "                    'state',\n",
    "                    'specialty description',\n",
    "                    'zip code',\n",
    "                    'opioid claims',\n",
    "                    'total claim count',\n",
    "                   'percent opioid claims']\n",
    "#set doctor id to the index\n",
    "opioid_api_df.set_index('doctor id',inplace=True)\n",
    "#combine first and last name into a single column\n",
    "opioid_api_df['doctor name']=opioid_api_df[['first name','last name']].apply(lambda x:combine_strings(*x),axis=1)\n",
    "opioid_api_df.drop(labels=['first name','last name'],axis=1,inplace=True)\n",
    "\n",
    "#Droping doctors with nan or zero claims  \n",
    "opioid_api_df['opioid claims']= opioid_api_df['opioid claims'].apply(lambda x: if_null_value(x,0))\n",
    "opioid_api_df['percent opioid claims']= opioid_api_df['percent opioid claims'].apply(lambda x: if_null_value(x,0))\n",
    "opioid_api_reduced=opioid_api_df[opioid_api_df['opioid claims'] != 0.0]\n",
    "print(opioid_api_df.count())\n",
    "print(opioid_api_reduced.count())\n",
    "print('Max % prescriptions that are opioids {}'\n",
    "      .format(opioid_api_reduced['percent opioid claims'].max()))\n",
    "print('Min % prescriptions that are opioids {} (Other than zero)'\n",
    "      .format(opioid_api_reduced['percent opioid claims'].min()))\n"
   ]
  },
  {
   "cell_type": "code",
   "execution_count": null,
   "metadata": {},
   "outputs": [],
   "source": []
  }
 ],
 "metadata": {
  "kernelspec": {
   "display_name": "Python 3",
   "language": "python",
   "name": "python3"
  },
  "language_info": {
   "codemirror_mode": {
    "name": "ipython",
    "version": 3
   },
   "file_extension": ".py",
   "mimetype": "text/x-python",
   "name": "python",
   "nbconvert_exporter": "python",
   "pygments_lexer": "ipython3",
   "version": "3.5.2"
  }
 },
 "nbformat": 4,
 "nbformat_minor": 2
}
