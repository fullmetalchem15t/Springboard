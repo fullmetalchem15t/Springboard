{
 "cells": [
  {
   "cell_type": "markdown",
   "metadata": {},
   "source": [
    "This exercise will require you to pull some data from the Qunadl API. Qaundl is currently the most widely used aggregator of financial market data."
   ]
  },
  {
   "cell_type": "markdown",
   "metadata": {},
   "source": [
    "As a first step, you will need to register a free account on the http://www.quandl.com website."
   ]
  },
  {
   "cell_type": "markdown",
   "metadata": {},
   "source": [
    "After you register, you will be provided with a unique API key, that you should store:"
   ]
  },
  {
   "cell_type": "code",
   "execution_count": 1,
   "metadata": {},
   "outputs": [],
   "source": [
    "# Store the API key as a string - according to PEP8, constants are always named in all upper case\n",
    "API_KEY = ''"
   ]
  },
  {
   "cell_type": "markdown",
   "metadata": {},
   "source": [
    "Qaundl has a large number of data sources, but, unfortunately, most of them require a Premium subscription. Still, there are also a good number of free datasets."
   ]
  },
  {
   "cell_type": "markdown",
   "metadata": {},
   "source": [
    "For this mini project, we will focus on equities data from the Frankfurt Stock Exhange (FSE), which is available for free. We'll try and analyze the stock prices of a company called Carl Zeiss Meditec, which manufactures tools for eye examinations, as well as medical lasers for laser eye surgery: https://www.zeiss.com/meditec/int/home.html. The company is listed under the stock ticker AFX_X."
   ]
  },
  {
   "cell_type": "markdown",
   "metadata": {},
   "source": [
    "You can find the detailed Quandl API instructions here: https://docs.quandl.com/docs/time-series"
   ]
  },
  {
   "cell_type": "markdown",
   "metadata": {},
   "source": [
    "While there is a dedicated Python package for connecting to the Quandl API, we would prefer that you use the *requests* package, which can be easily downloaded using *pip* or *conda*. You can find the documentation for the package here: http://docs.python-requests.org/en/master/ "
   ]
  },
  {
   "cell_type": "markdown",
   "metadata": {},
   "source": [
    "Finally, apart from the *requests* package, you are encouraged to not use any third party Python packages, such as *pandas*, and instead focus on what's available in the Python Standard Library (the *collections* module might come in handy: https://pymotw.com/3/collections/).\n",
    "Also, since you won't have access to DataFrames, you are encouraged to us Python's native data structures - preferably dictionaries, though some questions can also be answered using lists.\n",
    "You can read more on these data structures here: https://docs.python.org/3/tutorial/datastructures.html"
   ]
  },
  {
   "cell_type": "markdown",
   "metadata": {},
   "source": [
    "Keep in mind that the JSON responses you will be getting from the API map almost one-to-one to Python's dictionaries. Unfortunately, they can be very nested, so make sure you read up on indexing dictionaries in the documentation provided above."
   ]
  },
  {
   "cell_type": "code",
   "execution_count": 3,
   "metadata": {},
   "outputs": [],
   "source": [
    "# First, import the relevant modules\n",
    "import requests"
   ]
  },
  {
   "cell_type": "code",
   "execution_count": 6,
   "metadata": {},
   "outputs": [],
   "source": [
    "# Now, call the Quandl API and pull out a small sample of the data (only one day) to get a glimpse\n",
    "# into the JSON structure that will be returned\n",
    "# Now, call the Quandl API and pull out a small sample of the data (only one day) to get a glimpse\n",
    "# into the JSON structure that will be returned\n",
    "URL = 'https://www.quandl.com/api/v3/datasets/FSE/AFX_X.json'\n",
    "\n",
    "#start/end date\n",
    "URL = URL + '?start_date=2018-01-01&end_date=2018-01-02'\n",
    "\n",
    "#use key\n",
    "URL = URL + '&api_key=' + API_KEY#create response object\n",
    "#create response object\n",
    "response = requests.get(URL)\n",
    "#create a json from the response object.\n",
    "CZM = response.json()"
   ]
  },
  {
   "cell_type": "code",
   "execution_count": 7,
   "metadata": {},
   "outputs": [
    {
     "name": "stdout",
     "output_type": "stream",
     "text": [
      "{'dataset': {'dataset_code': 'AFX_X', 'column_index': None, 'premium': False, 'id': 10095370, 'end_date': '2018-01-02', 'type': 'Time Series', 'oldest_available_date': '2000-06-07', 'database_code': 'FSE', 'newest_available_date': '2018-10-30', 'order': None, 'name': 'Carl Zeiss Meditec (AFX_X)', 'limit': None, 'description': 'Stock Prices for Carl Zeiss Meditec (AFX) from the Frankfurt Stock Exchange.<br><br>Trading System: Xetra<br><br>ISIN: DE0005313704', 'refreshed_at': '2018-10-30T22:30:47.066Z', 'column_names': ['Date', 'Open', 'High', 'Low', 'Close', 'Change', 'Traded Volume', 'Turnover', 'Last Price of the Day', 'Daily Traded Units', 'Daily Turnover'], 'database_id': 6129, 'frequency': 'daily', 'transform': None, 'collapse': None, 'start_date': '2018-01-01', 'data': [['2018-01-02', 52.05, 52.4, 51.2, 51.4, None, 54435.0, 2807533.0, None, None, None]]}}\n"
     ]
    }
   ],
   "source": [
    "# Inspect the JSON structure of the object you created, and take note of how nested it is,\n",
    "# as well as the overall structure\n",
    "print(CZM)"
   ]
  },
  {
   "cell_type": "markdown",
   "metadata": {},
   "source": [
    "These are your tasks for this mini project:\n",
    "\n",
    "1. Collect data from the Franfurt Stock Exchange, for the ticker AFX_X, for the whole year 2017 (keep in mind that the date format is YYYY-MM-DD).\n",
    "2. Convert the returned JSON object into a Python dictionary.\n",
    "3. Calculate what the highest and lowest opening prices were for the stock in this period.\n",
    "4. What was the largest change in any one day (based on High and Low price)?\n",
    "5. What was the largest change between any two days (based on Closing Price)?\n",
    "6. What was the average daily trading volume during this year?\n",
    "7. (Optional) What was the median trading volume during this year. (Note: you may need to implement your own function for calculating the median.)"
   ]
  },
  {
   "cell_type": "code",
   "execution_count": 8,
   "metadata": {},
   "outputs": [],
   "source": [
    "#1)Collect data from the Franfurt Stock Exchange,\n",
    "#  for the ticker AFX_X, for the whole year 2017 \n",
    "#  (keep in mind that the date format is YYYY-MM-DD).\n",
    "URL = 'https://www.quandl.com/api/v3/datasets/FSE/AFX_X.json'\n",
    "URL = URL + '?start_date=2017-01-01&end_date=2017-12-31'\n",
    "URL = URL + '&api_key=' + API_KEY\n",
    "response = requests.get(URL)\n",
    "\n",
    "#2)Convert the returned JSON object into a Python dictionary.\n",
    "CZM_json = response.json()\n",
    "CZM_dict = {item[0]:item[1:] for item in CZM_json['dataset']['data']}"
   ]
  },
  {
   "cell_type": "code",
   "execution_count": 71,
   "metadata": {},
   "outputs": [
    {
     "name": "stdout",
     "output_type": "stream",
     "text": [
      "min = 34.00 max = 53.11\n",
      "max change = 2.81\n",
      "largest change between any two days = -2.56\n",
      "average trading volume = 89124.34\n",
      "median volume traded = 76286.00\n"
     ]
    }
   ],
   "source": [
    "#3-6) See answers below \n",
    "\n",
    "#Function to find the minimum while in a for loop \n",
    "def min_fuction(new_value,previous_value):\n",
    "    if new_value is not None:\n",
    "        if new_value < previous_value:\n",
    "            previous_value = float(new_value)  \n",
    "    return previous_value \n",
    "\n",
    "#Function to find the maximum while in a for loop \n",
    "def max_fuction(new_value,previous_value):\n",
    "    if new_value is not None:\n",
    "        if new_value > previous_value:\n",
    "            previous_value = float(new_value)  \n",
    "    return previous_value \n",
    "\n",
    "#Function to find the highest daily while in a for loops \n",
    "def daily_function(low,high,previous_value):    \n",
    "    if (high is not None) and (low is not None): \n",
    "        if high-low > previous_value:\n",
    "            previous_value = high-low  \n",
    "    return previous_value\n",
    "\n",
    "#Function to find the highest difference in closing of two consecutive days while in a for loop \n",
    "def consecutive_diff(value,previous_value,previous_high):\n",
    "    if previous_value is not None:\n",
    "        if abs( value - previous_value) > abs(previous_high):\n",
    "            previous_high = value - previous_value    \n",
    "    previous_value = value\n",
    "    return (previous_value,previous_high)\n",
    "        \n",
    "#Function to find the median of a column of a dictionary of lists.\n",
    "def median_column(dictionary,column):\n",
    "    volume_list = sorted([value[column] for key,value in dictionary.items()])\n",
    "    median = volume_list[len(volume_list)//2] #if lens of list is odd\n",
    "    if len(volume_list)%2 == 0: #if lens of list is even\n",
    "        median = (volume_list[len(volume_list)//2-1] + volume_list[len(volume_list)//2])/2\n",
    "    return median\n",
    "\n",
    "def main_seq():\n",
    "    \n",
    "    #Creates labels for every column of dictionary\n",
    "    CZM_label = CZM_json['dataset']['column_names'].copy() \n",
    "    CZM_label.remove('Date')\n",
    "    open_index = CZM_label.index('Open') \n",
    "    high_index = CZM_label.index('High')\n",
    "    low_index   = CZM_label.index('Low')\n",
    "    close_index = CZM_label.index('Close')\n",
    "    volume_index = CZM_label.index('Traded Volume')\n",
    "\n",
    "    #Create variables to be reported at end with dummy values\n",
    "    max_open = 0.0\n",
    "    min_open = 999999999.0\n",
    "    daily_change = 0.0\n",
    "    close_change = 0.0\n",
    "    volume_avg = 0.0\n",
    "\n",
    "    for index,(key,value) in enumerate(sorted(CZM_dict.items())):\n",
    "\n",
    "        #find min \n",
    "        min_open=min_fuction(value[open_index],min_open)\n",
    "\n",
    "        #find max\n",
    "        max_open=max_fuction(value[open_index],max_open)\n",
    "\n",
    "        #find daily change\n",
    "        daily_change=daily_function(value[low_index],value[high_index],daily_change)\n",
    "\n",
    "        #find change between two consecutive days\n",
    "        if index == 0: \n",
    "            previous_close = value[close_index]\n",
    "        else:\n",
    "            previous_close,close_change = consecutive_diff(value[close_index],previous_close,close_change)\n",
    "\n",
    "        if (value[volume_index] is not None) :\n",
    "            #sum over traded volume which will be used to find average\n",
    "            volume_avg += value[volume_index]\n",
    "\n",
    "    #3) Calculate what the highest and lowest opening prices were for the stock in this period.\n",
    "    print('min = {:.2f} max = {:.2f}'.format(min_open,max_open))\n",
    "\n",
    "    #4) What was the largest change in any one day (based on High and Low price)?\n",
    "    print('max change = {:.2f}'.format(daily_change))\n",
    "\n",
    "    # 5)What was the largest change between any two days (based on Closing Price)?\n",
    "    print('largest change between any two days = {:.2f}'.format(close_change))\n",
    "\n",
    "    #6)What was the average daily trading volume during this year?\n",
    "    volume_avg /= float(len(CZM_dict))\n",
    "    print('average trading volume = {:.2f}'.format(volume_avg))\n",
    "\n",
    "    #7)What was the median trading volume during this year.\n",
    "    print('median volume traded = {:.2f}'.format(median_column(CZM_dict,volume_index)))\n",
    "\n",
    "if __name__ == '__main__':\n",
    "    main_seq()"
   ]
  }
 ],
 "metadata": {
  "kernelspec": {
   "display_name": "Python 3",
   "language": "python",
   "name": "python3"
  },
  "language_info": {
   "codemirror_mode": {
    "name": "ipython",
    "version": 3
   },
   "file_extension": ".py",
   "mimetype": "text/x-python",
   "name": "python",
   "nbconvert_exporter": "python",
   "pygments_lexer": "ipython3",
   "version": "3.6.8"
  }
 },
 "nbformat": 4,
 "nbformat_minor": 2
}
