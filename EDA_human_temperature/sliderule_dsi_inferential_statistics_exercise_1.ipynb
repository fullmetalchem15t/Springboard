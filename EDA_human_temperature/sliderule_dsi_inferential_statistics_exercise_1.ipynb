{
 "cells": [
  {
   "cell_type": "markdown",
   "metadata": {},
   "source": [
    "# What is the True Normal Human Body Temperature? \n",
    "\n",
    "#### Background\n",
    "\n",
    "The mean normal body temperature was held to be 37 degrees C or 98.6 degrees F for more than 120 years since it was first conceptualized and reported by Carl Wunderlich in a famous 1868 book. But, is this value statistically correct?"
   ]
  },
  {
   "cell_type": "markdown",
   "metadata": {},
   "source": [
    "<h3>Exercises</h3>\n",
    "\n",
    "<p>In this exercise, you will analyze a dataset of human body temperatures and employ the concepts of hypothesis testing, confidence intervals, and statistical significance.</p>\n",
    "\n",
    "<p>Answer the following questions <b>in this notebook below and submit to your Github account</b>.</p> \n",
    "\n",
    "<ol>\n",
    "<li>  Is the distribution of body temperatures normal? \n",
    "    <ul>\n",
    "    <li> Although this is not a requirement for the Central Limit Theorem to hold (read the introduction on Wikipedia's page about the CLT carefully: https://en.wikipedia.org/wiki/Central_limit_theorem), it gives us some peace of mind that the population may also be normally distributed if we assume that this sample is representative of the population.\n",
    "    <li> Think about the way you're going to check for the normality of the distribution. Graphical methods are usually used first, but there are also other ways: https://en.wikipedia.org/wiki/Normality_test\n",
    "    </ul>\n",
    "<li>  Is the sample size large? Are the observations independent?\n",
    "    <ul>\n",
    "    <li> Remember that this is a condition for the Central Limit Theorem, and hence the statistical tests we are using, to apply.\n",
    "    </ul>\n",
    "<li>  Is the true population mean really 98.6 degrees F?\n",
    "    <ul>\n",
    "    <li> First, try a bootstrap hypothesis test.\n",
    "    <li> Now, let's try frequentist statistical testing. Would you use a one-sample or two-sample test? Why?\n",
    "    <li> In this situation, is it appropriate to use the $t$ or $z$ statistic? \n",
    "    <li> Now try using the other test. How is the result be different? Why?\n",
    "    </ul>\n",
    "<li>  Draw a small sample of size 10 from the data and repeat both frequentist tests. \n",
    "    <ul>\n",
    "    <li> Which one is the correct one to use? \n",
    "    <li> What do you notice? What does this tell you about the difference in application of the $t$ and $z$ statistic?\n",
    "    </ul>\n",
    "<li>  At what temperature should we consider someone's temperature to be \"abnormal\"?\n",
    "    <ul>\n",
    "    <li> As in the previous example, try calculating everything using the boostrap approach, as well as the frequentist approach.\n",
    "    <li> Start by computing the margin of error and confidence interval. When calculating the confidence interval, keep in mind that you should use the appropriate formula for one draw, and not N draws.\n",
    "    </ul>\n",
    "<li>  Is there a significant difference between males and females in normal temperature?\n",
    "    <ul>\n",
    "    <li> What testing approach did you use and why?\n",
    "    <li> Write a story with your conclusion in the context of the original problem.\n",
    "    </ul>\n",
    "</ol>\n",
    "\n",
    "You can include written notes in notebook cells using Markdown: \n",
    "   - In the control panel at the top, choose Cell > Cell Type > Markdown\n",
    "   - Markdown syntax: http://nestacms.com/docs/creating-content/markdown-cheat-sheet\n",
    "\n",
    "#### Resources\n",
    "\n",
    "+ Information and data sources: http://www.amstat.org/publications/jse/datasets/normtemp.txt, http://www.amstat.org/publications/jse/jse_data_archive.htm\n",
    "+ Markdown syntax: http://nestacms.com/docs/creating-content/markdown-cheat-sheet\n",
    "\n",
    "****"
   ]
  },
  {
   "cell_type": "code",
   "execution_count": 2,
   "metadata": {},
   "outputs": [],
   "source": [
    "import pandas as pd\n",
    "import numpy as np\n",
    "import matplotlib.pyplot as plt\n",
    "import seaborn as sns\n",
    "from scipy.stats import normaltest,ttest_1samp,norm\n",
    "from statsmodels.stats.weightstats import ztest\n",
    "import warnings\n",
    "warnings.simplefilter(action='ignore', category=FutureWarning)\n",
    "\n",
    "df = pd.read_csv('data/human_body_temperature.csv')"
   ]
  },
  {
   "cell_type": "markdown",
   "metadata": {
    "collapsed": true
   },
   "source": [
    "1)  <b>Is the distribution of body temperatures normal?</b> \n",
    "\n",
    "According to the D'Agostino-Pearson test, yes. The histagram appears normal with a slight right-skew.\n",
    "\n"
   ]
  },
  {
   "cell_type": "code",
   "execution_count": 3,
   "metadata": {
    "scrolled": true
   },
   "outputs": [
    {
     "name": "stdout",
     "output_type": "stream",
     "text": [
      "p >= alpha. The distribution is normal.\n",
      "p = 0.26\n",
      "alpha = 0.05\n"
     ]
    },
    {
     "data": {
      "image/png": "[encoded data removed]",
      "text/plain": [
       "<Figure size 432x288 with 1 Axes>"
      ]
     },
     "metadata": {
      "needs_background": "light"
     },
     "output_type": "display_data"
    }
   ],
   "source": [
    "#Using the D'Agostino-Pearson Test to check for normalicy\n",
    "Ksquared,pvalue = normaltest(np.array(df['temperature']))\n",
    "#use p-test to check if normal\n",
    "#Ho: The data is in a normal distributation (p >= alpha)\n",
    "#Ha: The data is not in a normal distributation (p < alpha)\n",
    "alpha =0.05\n",
    "if(pvalue < alpha):\n",
    "    print('p < alpha. The distribution is not normal.')\n",
    "else:\n",
    "    print('p >= alpha. The distribution is normal.')\n",
    "print('p = {:.2f}'.format(pvalue))\n",
    "print('alpha = {:.2f}'.format(alpha))    \n",
    "                             \n",
    "\n",
    "#create a histagram to visualize distribution.\n",
    "sns.distplot(df['temperature'],bins=20,kde=True)\n",
    "plt.xlabel('Temperature(\\N{DEGREE SIGN}F)')\n",
    "plt.ylabel('Density Function')\n",
    "plt.title('Temperature Data')\n",
    "plt.savefig('temperature.jpg',bbox_inches='tight')\n",
    "plt.xlim([95,102])\n",
    "plt.show()"
   ]
  },
  {
   "cell_type": "markdown",
   "metadata": {},
   "source": [
    "2)<b>Is the sample size large? Are the observations independent? </b>\n",
    "\n",
    "The sample size is greater than 30 therefore large enough for the Central Limit Theorem.\n",
    "Samples are only 130 which is a small part(<10%)  of a larger total population.\n",
    "Therefor observations do not have to be replaced before sampling and considered independent."
   ]
  },
  {
   "cell_type": "markdown",
   "metadata": {},
   "source": [
    "3)<b>Is the true population mean really 98.6 degrees F?</b>\n",
    "<ul> \n",
    "According to all the tests below (as well as the orignal paper this data came from) the data does not support the mean temperature being 98.6 degrees F.\n",
    "<br>\n",
    "<br>\n",
    "<li><b> First, try a bootstrap hypothesis test. </b>\n",
    "<br>\n",
    "Results are below.\n",
    "<br>\n",
    "<br>\n",
    "<b>Now, let's try frequentist statistical testing. Would you use a one-sample or two-sample test? Why?</b>\n",
    "<br>\n",
    "A one-sample test would be the approprate test for determining if the average body temperature is 98.6 degrees F since we are only interested in the average temperature of a single population. If, for example, we were examining the difference in average temperature between two populations, say male and female, the two-sample test would be appropate. \n",
    "<br>\n",
    "<br>\n",
    "<li><b>In this situation, is it appropriate to use the  t  or  z  statistic?</b>\n",
    "<br>\n",
    "Since the sample size is large (n > 30), a z test would be approprate.\n",
    "<br>\n",
    "<br>\n",
    "<li><b>  Now try using the other test. How is the result be different? Why? </b>\n",
    "<br>\n",
    "Other than z-score having a lower p-value, the results are similar. The p-value is so small that difference may be noise. At larger sample size (N>30), the z-score and t-score are expected to be pretty much the same.\n",
    "</ul>"
   ]
  },
  {
   "cell_type": "code",
   "execution_count": 6,
   "metadata": {},
   "outputs": [
    {
     "name": "stdout",
     "output_type": "stream",
     "text": [
      "\n",
      "bootstrap z-score, pvalue = -5.43, 5.55e-08\n"
     ]
    },
    {
     "data": {
      "image/png": "[encoded data removed]",
      "text/plain": [
       "<Figure size 432x288 with 1 Axes>"
      ]
     },
     "metadata": {
      "needs_background": "light"
     },
     "output_type": "display_data"
    },
    {
     "name": "stdout",
     "output_type": "stream",
     "text": [
      "\n",
      "z-score, pvalue = -5.45, 4.90e-08\n",
      "\n",
      "t-value, pvalue = -5.45, 2.41e-07\n"
     ]
    }
   ],
   "source": [
    "#Ho: Temp = 98.6 degrees F\n",
    "#Ha: Temp != 98.6 degrees F\n",
    "\n",
    "#bootstrap test\n",
    "temp_sample_mean  = np.empty(10000)\n",
    "for i in range(10000):\n",
    "    temp_sample_mean[i] = np.mean(np.random.choice(df['temperature'],replace=True,size=130))\n",
    "    \n",
    "bootstrap_mean = temp_sample_mean.mean()\n",
    "bootstrap_std = temp_sample_mean.std()\n",
    "\n",
    "#z score bootstrap distribuation\n",
    "alpha = 0.05\n",
    "z_score = (bootstrap_mean-98.6)/bootstrap_std\n",
    "pvalue = norm.sf(abs(z_score))*2\n",
    "print('\\nbootstrap z-score, pvalue = {:.2f}, {:.2e}'.format(z_score,pvalue))\n",
    "\n",
    "#q_range = np.percentile(temp_sample_mean,[25, 97.5])\n",
    "#print('bootstrap mean = {:.2f}'.format(bootstrap_mean))\n",
    "#print('boostrap normal range [{:.2f} {:.2f}]'.format(q_range[0],q_range[1]))\n",
    "\n",
    "      \n",
    "      \n",
    "      \n",
    "sns.distplot(temp_sample_mean,bins=20,kde=True)\n",
    "plt.xlim([95,102])\n",
    "plt.ylabel('Da')\n",
    "plt.xlabel('Temperature(\\N{DEGREE SIGN}F)')\n",
    "plt.title('Bootstrap Data')\n",
    "plt.savefig('bootstrap.jpg',bbox_inches='tight')\n",
    "plt.show()\n",
    "\n",
    "#z test\n",
    "N = len(df['temperature'])\n",
    "original_mean = df['temperature'].mean()\n",
    "original_std = df['temperature'].std()      \n",
    "z_score = (original_mean-98.6)/(original_std/np.sqrt(N))\n",
    "pvalue = norm.sf(abs(z_score))*2\n",
    "print('\\nz-score, pvalue = {:.2f}, {:.2e}'.format(z_score,pvalue))\n",
    "\n",
    "#using a t-test\n",
    "tvalue,pvalue = ttest_1samp(df['temperature'],98.6)\n",
    "print('\\nt-value, pvalue = {:.2f}, {:.2e}'.format(tvalue,pvalue))"
   ]
  },
  {
   "cell_type": "markdown",
   "metadata": {},
   "source": [
    "4)<b> Draw a small sample of size 10 from the data and repeat both frequentist tests.</b>\n",
    "\n",
    "\n",
    "<ul> <li><b>Which one is the correct one to use?</b>\n",
    "<br>\n",
    "<br>\n",
    "Since the sample size is small (N < 30) the t-test is the appropate test.\n",
    "<br>\n",
    "<br>\n",
    "<li><b>What do you notice? What does this tell you about the difference in application of the  t  and  z  statistic?</b>\n",
    "<br>\n",
    "<br>\n",
    "The t test rejected the null hypothesis while the z test did not. Since the t-test agreed with the answer found using a larger sample, the results of the t-test is accepted rather than the z-test. This indicates that at lower sample sizes, the t-test is the appropate test.\n",
    " </ul> \n",
    "    "
   ]
  },
  {
   "cell_type": "code",
   "execution_count": 7,
   "metadata": {},
   "outputs": [
    {
     "name": "stdout",
     "output_type": "stream",
     "text": [
      "\n",
      "z-score, pvalue = -1.40, 0.16\n",
      "\n",
      "t-value, pvalue = -1.33, 2.16e-01\n"
     ]
    }
   ],
   "source": [
    "temp_small = np.random.choice(df['temperature'],replace=True,size=10)\n",
    "small_mean = temp_small.mean()\n",
    "small_std = temp_small.std()\n",
    "\n",
    "#z test:\n",
    "alpha = 0.06\n",
    "N = len(temp_small)\n",
    "z_score = (small_mean-98.6)/(small_std/np.sqrt(N))\n",
    "pvalue = norm.sf(abs(z_score))*2\n",
    "print('\\nz-score, pvalue = {:.2f}, {:.2f}'.format(z_score,pvalue))\n",
    "\n",
    "#t test\n",
    "tvalue,pvalue = ttest_1samp(temp_small,98.6)\n",
    "print('\\nt-value, pvalue = {:.2f}, {:.2e}'.format(tvalue,pvalue))"
   ]
  },
  {
   "cell_type": "markdown",
   "metadata": {},
   "source": [
    "5) <b>At what temperature should we consider someone's temperature to be \"abnormal\"? </b>\n",
    "    <ul>\n",
    "    <li><b> As in the previous example, try calculating everything using the bootstrap approach, as well as the frequentist approach.</b>\n",
    "    <li> <b> Start by computing the margin of error and confidence interval. When calculating the confidence interval, keep in mind that you should use the appropriate formula for one draw, and not N draws. </b>\n",
    "<br>\n",
    "   Based on a 95% confidence interval, anything outside the temperature of 98.21 degrees F and 98.38 degrees F is considered abnormal with a margin of error of 0.13 degrees F . The average temperature is 98.25 +- 0.13 degrees F\n",
    "    </ul>"
   ]
  },
  {
   "cell_type": "code",
   "execution_count": 8,
   "metadata": {},
   "outputs": [
    {
     "name": "stdout",
     "output_type": "stream",
     "text": [
      "boostrap 95% margin of error 0.12\n",
      "boostrap 95% confidence interval [98.13 98.38]\n",
      "\n",
      "boostrap 99% margin of error 0.16\n",
      "boostrap 99% confidence interval [98.09 98.42]\n"
     ]
    }
   ],
   "source": [
    "#bootstrap test\n",
    "temp_sample_mean  = np.empty(10000)\n",
    "for i in range(10000):\n",
    "    temp_sample_mean[i] = np.mean(np.random.choice(df['temperature'],replace=True,size=130))\n",
    "    \n",
    "bootstrap_mean = temp_sample_mean.mean()\n",
    "bootstrap_std = temp_sample_mean.std()\n",
    "\n",
    "q_range = np.percentile(temp_sample_mean,[2.5, 97.5])\n",
    "margin_of_error = 1.96*bootstrap_std\n",
    "print('boostrap 95% margin of error {:.2f}'.format(margin_of_error))\n",
    "print('boostrap 95% confidence interval [{:.2f} {:.2f}]'.format(q_range[0],q_range[1]))\n",
    "\n",
    "margin_of_error = 2.58*bootstrap_std\n",
    "print('\\nboostrap 99% margin of error {:.2f}'.format(margin_of_error))\n",
    "q_range = np.percentile(temp_sample_mean,[0.5, 99.5])\n",
    "print('boostrap 99% confidence interval [{:.2f} {:.2f}]'.format(q_range[0],q_range[1]))"
   ]
  },
  {
   "cell_type": "markdown",
   "metadata": {},
   "source": [
    "6) <b>Is there a significant difference between males and females in normal temperature?</b>\n",
    "<ul>\n",
    "    <li><b> What testing approach did you use and why? </b>\n",
    "<br>\n",
    "Due to the large sample size (N > 30) I am using a z-test.\n",
    "<br>\n",
    "<br>\n",
    "<li><b> Write a story with your conclusion in the context of the original problem. </b>\n",
    "<br>\n",
    "In 1868, Carl Reinhold August Wunderlich published his findings that the average human body temperature is 98.6 degrees F . Based on 1992 measures using more modern equipment by Philip A. Mackowiak et al., the average human body temperature instead was found to be 98.25 degrees F. 98.6 degrees F  wasn't even in the 99% confidence interval. The average temperature for women is slightly higher which is consistant with the findings of Wunderlich.\n",
    "</ul>"
   ]
  },
  {
   "cell_type": "code",
   "execution_count": 15,
   "metadata": {},
   "outputs": [
    {
     "name": "stdout",
     "output_type": "stream",
     "text": [
      "male mean,std,N = 98.10, 0.70, 65\n",
      "female mean,std,N = 98.39, 0.74, 65\n",
      "diff mean,std = -0.29, 0.13,\n",
      "\n",
      "z-score, p-value = -2.29, 0.02\n",
      "The null hypothesis that the men and women have the same average temperature is rejected.\n"
     ]
    }
   ],
   "source": [
    "temp_male = df[df['gender']=='M']\n",
    "temp_female = df[df['gender']=='F']\n",
    "\n",
    "N_male = temp_male['temperature'].count()\n",
    "male_mean = temp_male['temperature'].mean()\n",
    "male_std = temp_male['temperature'].std()\n",
    "print('male mean,std,N = {:.2f}, {:.2f}, {}'.format(male_mean,male_std,N_male))\n",
    "\n",
    "N_female = temp_male['temperature'].count()\n",
    "female_mean = temp_female['temperature'].mean()\n",
    "female_std = temp_female['temperature'].std()\n",
    "print('female mean,std,N = {:.2f}, {:.2f}, {}'\n",
    ".format(female_mean,female_std,N_female))\n",
    "\n",
    "#difference of sample\n",
    "diff_mean = male_mean - female_mean\n",
    "diff_std = np.sqrt(male_std**2/N_male+female_std**2/N_female)\n",
    "print('diff mean,std = {:.2f}, {:.2f},'\n",
    ".format(diff_mean,diff_std))\n",
    "\n",
    "\n",
    "#two sample z-test\n",
    "z_score = (diff_mean-0)/diff_std\n",
    "pvalue = norm.sf(abs(z_score))*2\n",
    "print('\\nz-score, p-value = {:.2f}, {:.2f}'.format(z_score,pvalue))\n",
    "alpha = 0.05\n",
    "if(pvalue < alpha):\n",
    "    print('The null hypothesis that the men and women have the same average temperature is rejected.')\n",
    "else:   \n",
    "    print('The null hypothesis that the men and women have the same average temperature is not rejected.')   "
   ]
  }
 ],
 "metadata": {
  "kernelspec": {
   "display_name": "Python 3",
   "language": "python",
   "name": "python3"
  },
  "language_info": {
   "codemirror_mode": {
    "name": "ipython",
    "version": 3
   },
   "file_extension": ".py",
   "mimetype": "text/x-python",
   "name": "python",
   "nbconvert_exporter": "python",
   "pygments_lexer": "ipython3",
   "version": "3.7.0"
  }
 },
 "nbformat": 4,
 "nbformat_minor": 1
}
