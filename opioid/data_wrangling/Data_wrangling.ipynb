{
 "cells": [
  {
   "cell_type": "markdown",
   "metadata": {},
   "source": [
    "# import packages"
   ]
  },
  {
   "cell_type": "code",
   "execution_count": 1,
   "metadata": {},
   "outputs": [],
   "source": [
    "from sys import exit\n",
    "import pandas as pd\n",
    "import numpy as np\n",
    "import csv\n",
    "from urllib import request\n",
    "from sodapy import Socrata\n",
    "from io import StringIO"
   ]
  },
  {
   "cell_type": "markdown",
   "metadata": {},
   "source": [
    "# important functions"
   ]
  },
  {
   "cell_type": "code",
   "execution_count": 2,
   "metadata": {},
   "outputs": [],
   "source": [
    "#if value is NaN, return ifnan_value, otherwise return value\n",
    "def if_null_value(value,if_nan_value):\n",
    "    return (if_nan_value if pd.isnull(value) else value)\n",
    "\n",
    "# If state is listed as \"ZZ\" or \"XX\", than zip codeis null.\n",
    "# Fill with 1 if 'ZZ' (unknown location)\n",
    "# or 2 if 'XX'. Not in the US \n",
    "# or 3 if 'AP' for Pacific armed forces\n",
    "def fill_zip_code(state,zipcode):\n",
    "    final_code = ''\n",
    "    if not pd.isnull(zipcode):\n",
    "        final_code = zipcode\n",
    "    elif state == 'ZZ':\n",
    "        final_code = 1\n",
    "    elif state == 'XX':\n",
    "        final_code = 2\n",
    "    elif state == 'AP':\n",
    "        final_code = 3\n",
    "    else:\n",
    "        print('ERROR: state: \\'{}\\' not recognized'.format(state))\n",
    "        exit()\n",
    "    return final_code\n",
    "\n",
    "\n",
    "#combines strings, used to combine first and last names with spaces between.\n",
    "def combine_strings(*strings):\n",
    "    combine = ''\n",
    "    for x in strings:\n",
    "        if isinstance(x,str):\n",
    "          combine += x + ' '\n",
    "    if(combine == ''):\n",
    "        return combine\n",
    "    else:\n",
    "        return combine[0:-1] \n",
    "    "
   ]
  },
  {
   "cell_type": "markdown",
   "metadata": {},
   "source": [
    "# Create dataframe of population by zipcode\n",
    "Dowloaded from kaggle. A database to link the population to zipcode is created from the 2010 census \n",
    "\n",
    "Source: https://www.kaggle.com/census/us-population-by-zip-code\n",
    "Accessed: October 30, 2018\n",
    "\n",
    "Several zipcode have empty populations. Using a second database that links zipcode to city, the population \n",
    "of these zipcodes will be estimated from average zip code in the same city. The csv file for which this database is create does contain population of zip codes. Because their source of their population is not cited, it will not be used.\n",
    "\n",
    "Source of second database: https://simplemaps.com/data/us-zips \n",
    "accessed: November 7, 2018"
   ]
  },
  {
   "cell_type": "code",
   "execution_count": 3,
   "metadata": {},
   "outputs": [
    {
     "name": "stdout",
     "output_type": "stream",
     "text": [
      "us-population-by-zip-code.zip: Skipping, found more recently modified local copy (use --force to force download)\n",
      "Archive:  us-population-by-zip-code.zip\n",
      "  inflating: population_by_zip_2000.csv  \n",
      "  inflating: population_by_zip_2010.csv  \n",
      "mkdir: cannot create directory ‘population_kaggle/’: File exists\n"
     ]
    }
   ],
   "source": [
    "#download population from kaggle\n",
    "!kaggle datasets download -d census/us-population-by-zip-code\n",
    "!unzip us-population-by-zip-code.zip\n",
    "!mkdir population_kaggle/\n",
    "!mv population_by_zip_20* population_kaggle/\n",
    "\n",
    "#data lists population organized by gender and range age. It also lists the total population \n",
    "# regardless of gender or population. Removing all but the total population of a zip code.\n",
    "filename = 'population_kaggle/population_by_zip_2010.csv'\n",
    "population_df = pd.read_csv(filename).fillna(value='all')\n",
    "population_df = population_df[(population_df['gender'] == 'all') \n",
    "              & (population_df['minimum_age'] == 'all') \n",
    "              & (population_df['maximum_age'] == 'all')][['population','zipcode']]\n",
    "#population_df.set_index('zipcode',inplace=True)\n",
    "\n",
    "#Create a database to link zip codes to cities and states. Average the population zip codes in the cities and states,\n",
    "# use to find estimate to population of zip codes with unknown/undefine population.\n",
    "filename = 'Zip_code_to_address/uszipsv1.4.csv'\n",
    "location_df = pd.read_csv(filename)[['zip','city','state_id']]\n",
    "#location_df.set_index('zip',inplace=True)\n",
    "population_df = population_df.merge(location_df,how='right',left_on='zipcode',right_on='zip')\n",
    "population_df.drop(columns='zipcode',inplace=True)\n",
    "population_df.rename(columns={'zip':'zipcode'},inplace=True)\n",
    "\n",
    "#Average zip codes of the same city and state.\n",
    "#Fills zip codes with null population with  average\n",
    "location_pop=population_df.groupby(['state_id','city'])['city','state_id','population'].mean().reset_index()\n",
    "population_df= population_df.merge(location_pop,how='left',on=['state_id','city'])\n",
    "population_df.rename(columns={'population_x':'population','population_y':'population avg'},inplace=True)\n",
    "population_df['population'] = population_df[['population','population avg']].apply(lambda x:if_null_value(x[0],x[1]),axis=1)\n",
    "population_df.drop(columns='population avg',axis=1,inplace=True)"
   ]
  },
  {
   "cell_type": "markdown",
   "metadata": {},
   "source": [
    "# Create dataframe for API\n",
    "\n",
    "Here a dataframe for the percentage and amount of opioid prescribed using Medicare Part D by health care providers. The data is cleaned and using the previous dataset, the population of the\n",
    "\n",
    "Source: https://data.cms.gov/Medicare-Claims/Medicare-Part-D-Opioid-Prescriber-Summary-File-201/yb2j-f3fp"
   ]
  },
  {
   "cell_type": "code",
   "execution_count": 4,
   "metadata": {},
   "outputs": [
    {
     "name": "stderr",
     "output_type": "stream",
     "text": [
      "WARNING:root:Requests made without an app_token will be subject to strict throttling limits.\n"
     ]
    }
   ],
   "source": [
    "WEBSITE = 'data.cms.gov'\n",
    "DATASET_ID = 'aksg-4qws'\n",
    "\n",
    "client = Socrata(WEBSITE,None)\n",
    "results = client.get(DATASET_ID,content_type='json',limit=1500000)\n",
    "opioid_df = pd.DataFrame.from_records(results)[['npi',\n",
    "                                                'nppes_provider_first_name',\n",
    "                                                'nppes_provider_last_name',\n",
    "                                                'nppes_provider_zip_code',\n",
    "                                                'nppes_provider_state',\n",
    "                                                'specialty_description',\n",
    "                                                'total_claim_count',\n",
    "                                                'opioid_claim_count',\n",
    "                                                'percent_opioid_claims']]\n",
    "\n",
    "\n",
    "#change name of columns\n",
    "opioid_df.columns =['doctor id',\n",
    "                    'first name',\n",
    "                    'last name',                    \n",
    "                    'zip code',                       \n",
    "                    'state',\n",
    "                    'specialty description',\n",
    "                    'total claims',\n",
    "                    'opioid claims',\n",
    "                    'fraction opioid claims']\n",
    "#set doctor id to the index\n",
    "opioid_df.set_index('doctor id',inplace=True)\n",
    "#combine first and last name into a single column\n",
    "opioid_df['doctor name']=opioid_df[['first name','last name']].apply(lambda x:combine_strings(*x),axis=1)\n",
    "opioid_df.drop(labels=['first name','last name'],axis=1,inplace=True)\n",
    "\n",
    "#Unknown location (state listed as ZZ) gets a zipcode of 0\n",
    "#Not in the US (state listed as XX) get a zipcode of 1\n",
    "opioid_df['zip code'] = opioid_df[['state','zip code']].apply(lambda x:fill_zip_code(x[0],x[1]),axis=1)\n",
    "\n",
    "\n",
    "#setting specialty description index\n",
    "doc_spec = set(list(opioid_df['specialty description']))\n",
    "spec_compreh=((x,counter) for counter, x in enumerate(doc_spec))\n",
    "spec_df=pd.DataFrame(spec_compreh,columns=['specialty description','specialty index'])\n",
    "opioid_df = opioid_df.merge(spec_df,how='left',on='specialty description')\n",
    "\n",
    "#merging with population data\n",
    "population_df['zipcode'] = population_df['zipcode'].astype(int)\n",
    "opioid_df['zip code'] = opioid_df['zip code'].astype(int)\n",
    "opioid_df = opioid_df.merge(population_df,how='left',left_on='zip code',right_on='zipcode')\n",
    "opioid_df.drop('zipcode',axis=1,inplace=True)\n",
    "\n",
    "#Droping doctors with nan or zero claims  \n",
    "opioid_df['opioid claims']= opioid_df['opioid claims'].apply(lambda x: if_null_value(x,0))\n",
    "opioid_df['opioid claims']= opioid_df['opioid claims'].astype(int)\n",
    "opioid_df['fraction opioid claims']=opioid_df['fraction opioid claims'].apply(lambda x: if_null_value(x,0))\n",
    "opioid_df['fraction opioid claims']=opioid_df['fraction opioid claims'].astype(float)\n",
    "opioid_reduced=opioid_df[opioid_df['opioid claims'] != 0.0]\n"
   ]
  },
  {
   "cell_type": "markdown",
   "metadata": {},
   "source": [
    "# Quick analyze of data and Outlier detection"
   ]
  },
  {
   "cell_type": "code",
   "execution_count": 5,
   "metadata": {
    "scrolled": false
   },
   "outputs": [
    {
     "name": "stdout",
     "output_type": "stream",
     "text": [
      "# health providers: 1049326\n",
      "# health providers who prescribe opioid: 496744\n",
      "% health providers that prescribe opioids: 47.34%\n",
      "# specialities: 246\n",
      "# specialities that prescribe opioid: 169\n",
      "Max % prescriptions that are opioids: 100.00%\n",
      "Min % prescriptions that are opioids(other than zero): 0.03%\n",
      "Missing population for 1836 (0.17%) entries\n"
     ]
    }
   ],
   "source": [
    "print('# health providers: {}'\n",
    "      .format(opioid_df['doctor name'].count()))\n",
    "print('# health providers who prescribe opioid: {}'\n",
    "      .format(opioid_reduced['doctor name'].count()))\n",
    "print('% health providers that prescribe opioids: {:.2f}%'.\n",
    "     format(opioid_reduced['doctor name'].count()/opioid_df['doctor name'].count()*100))\n",
    "print('# specialities: {}'.format(spec_df['specialty index'].count()))\n",
    "print('# specialities that prescribe opioid: {}'\n",
    "      .format(opioid_reduced['specialty index'].nunique()))\n",
    "print('Max % prescriptions that are opioids: {:.2f}%'\n",
    "      .format(opioid_reduced['fraction opioid claims'].max()*100))\n",
    "print('Min % prescriptions that are opioids(other than zero): {:.2f}%'\n",
    "      .format(opioid_reduced['fraction opioid claims'].min()*100))\n",
    "print('Missing population for {} ({:.2f}%) entries'.\n",
    "      format(opioid_df[(opioid_df['population'].isnull())]['zip code'].count()\n",
    "          ,opioid_df[(opioid_df['population'].isnull()) ]['zip code'].count()/opioid_df['zip code'].count()*100))\n"
   ]
  },
  {
   "cell_type": "markdown",
   "metadata": {},
   "source": [
    "# Get rid of the remaing null values"
   ]
  },
  {
   "cell_type": "code",
   "execution_count": 6,
   "metadata": {},
   "outputs": [],
   "source": [
    "opioid_df=opioid_df[opioid_df['population'].notnull()]\n",
    "opioid_reduced=opioid_reduced[opioid_reduced['population'].notnull()]"
   ]
  },
  {
   "cell_type": "code",
   "execution_count": null,
   "metadata": {},
   "outputs": [],
   "source": []
  }
 ],
 "metadata": {
  "kernelspec": {
   "display_name": "Python 3",
   "language": "python",
   "name": "python3"
  },
  "language_info": {
   "codemirror_mode": {
    "name": "ipython",
    "version": 3
   },
   "file_extension": ".py",
   "mimetype": "text/x-python",
   "name": "python",
   "nbconvert_exporter": "python",
   "pygments_lexer": "ipython3",
   "version": "3.7.0"
  }
 },
 "nbformat": 4,
 "nbformat_minor": 2
}
